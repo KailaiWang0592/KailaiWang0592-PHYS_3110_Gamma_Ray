{
 "cells": [
  {
   "cell_type": "code",
   "execution_count": 38,
   "id": "829e4729",
   "metadata": {},
   "outputs": [
    {
     "name": "stdout",
     "output_type": "stream",
     "text": [
      "229.93335653685943\n"
     ]
    }
   ],
   "source": [
    "import numpy as np\n",
    "\n",
    "import matplotlib.pyplot as plt\n",
    "\n",
    "#ln(N/N0)=-(mu)x\n",
    "N0=811.5\n",
    "al_ar=[434,525.5,545.5,437.0]\n",
    "co_ar=[360.5,261.5,200.5,71.5]\n",
    "pb_ar=[419,410.5,220.5,39]\n",
    "x_arr=[1.25,2.5,3.75,5.]\n",
    "al_arry=np.array(al_ar)/N0\n",
    "co_arry=np.array(co_ar)/N0\n",
    "pb_arry=np.array(pb_ar)/N0\n",
    "\n",
    "\n",
    "def my_fun(inter_mu,name):\n",
    "    \n",
    "    inter=inter_mu[0]\n",
    "    mu=inter_mu[1]\n",
    "    \n",
    "    N0=811.5\n",
    "    al_ar=[434,525.5,545.5,437.0]\n",
    "    co_ar=[360.5,261.5,200.5,71.5]\n",
    "    pb_ar=[419,410.5,220.5,39]\n",
    "    x_arr=[1.25,2.5,3.75,5.]\n",
    "    al_arry=np.array(al_ar)/N0\n",
    "    co_arry=np.array(co_ar)/N0\n",
    "    pb_arry=np.array(pb_ar)/N0\n",
    "\n",
    "    al_uncer=[52.0,60.5,24.5,24.0]\n",
    "    co_uncer=[16.5,71.5,53.5,0.5]\n",
    "    pb_uncer=[60.5,49.5,9.5,4.0]\n",
    "\n",
    "\n",
    "    chi_al=0\n",
    "    chi_cu=0\n",
    "    chi_pb=0\n",
    "    \n",
    "    x_arr=np.array(x_arr)\n",
    "    \n",
    "    exps=-1*np.array(x_arr)*mu+inter\n",
    "    model_ar=np.exp(exps)*N0\n",
    "    \n",
    "    for i in range(0,4):\n",
    "        chi_al+=((model_ar[i]-al_ar[i])**2)/((al_uncer[i])**2)\n",
    "        chi_cu+=((model_ar[i]-co_ar[i])**2)/((co_uncer[i])**2)\n",
    "        chi_pb+=((model_ar[i]-pb_ar[i])**2)/((pb_uncer[i])**2)\n",
    "    \n",
    "\n",
    "    if name==\"al\":\n",
    "        #     print(\"Aluminmum\")\n",
    "        #     print(\"model_ar\")\n",
    "        #     print(model_ar)\n",
    "        #     plt.scatter(x_arr,al_ar,color=\"green\")\n",
    "        #     plt.scatter(x_arr,model_ar)\n",
    "        result=chi_al\n",
    "        \n",
    "    if name==\"cu\":\n",
    "        result= chi_cu\n",
    "    if name == \"pb\":\n",
    "        result = chi_pb\n",
    "\n",
    "    return result\n",
    "    \n",
    "\n",
    "\n",
    "z=my_fun(inter_mu=[0.58685351, 0.76121527],name=\"pb\")\n",
    "\n",
    "print(z)"
   ]
  },
  {
   "cell_type": "code",
   "execution_count": 39,
   "id": "0c7ac601",
   "metadata": {},
   "outputs": [
    {
     "name": "stdout",
     "output_type": "stream",
     "text": [
      "     fun: 10.575282693799227\n",
      "     jac: array([ 0.00068939, -0.01197076])\n",
      " message: 'Optimization terminated successfully'\n",
      "    nfev: 29\n",
      "     nit: 7\n",
      "    njev: 7\n",
      "  status: 0\n",
      " success: True\n",
      "       x: array([-0.41014496,  0.02517785])\n",
      " \n"
     ]
    },
    {
     "name": "stderr",
     "output_type": "stream",
     "text": [
      "<ipython-input-38-074f9be2827f>:42: RuntimeWarning: overflow encountered in exp\n",
      "  model_ar=np.exp(exps)*N0\n",
      "<ipython-input-38-074f9be2827f>:45: RuntimeWarning: overflow encountered in double_scalars\n",
      "  chi_al+=((model_ar[i]-al_ar[i])**2)/((al_uncer[i])**2)\n",
      "<ipython-input-38-074f9be2827f>:46: RuntimeWarning: overflow encountered in double_scalars\n",
      "  chi_cu+=((model_ar[i]-co_ar[i])**2)/((co_uncer[i])**2)\n",
      "<ipython-input-38-074f9be2827f>:47: RuntimeWarning: overflow encountered in double_scalars\n",
      "  chi_pb+=((model_ar[i]-pb_ar[i])**2)/((pb_uncer[i])**2)\n"
     ]
    }
   ],
   "source": [
    "import scipy\n",
    "\n",
    "x0=(0.030507091908313133,0.18274111)\n",
    "\n",
    "print(scipy.optimize.minimize(my_fun,x0,method=\"SLSQP\",args=\"al\"))\n",
    "print(\" \")\n",
    "#print(\"Al Chi^2 minimization: chi^2=1.1003383527890525, intercept=0.04061259, mu=0.18592093\")"
   ]
  },
  {
   "cell_type": "code",
   "execution_count": 40,
   "id": "e695b894",
   "metadata": {},
   "outputs": [
    {
     "name": "stdout",
     "output_type": "stream",
     "text": [
      "     fun: 2.620452463257017\n",
      "     jac: array([ 0.17279732, -0.83510026])\n",
      " message: 'Optimization terminated successfully'\n",
      "    nfev: 32\n",
      "     nit: 7\n",
      "    njev: 7\n",
      "  status: 0\n",
      " success: True\n",
      "       x: array([-0.26523763,  0.43276052])\n",
      "\n"
     ]
    },
    {
     "name": "stderr",
     "output_type": "stream",
     "text": [
      "<ipython-input-38-074f9be2827f>:42: RuntimeWarning: overflow encountered in exp\n",
      "  model_ar=np.exp(exps)*N0\n",
      "<ipython-input-38-074f9be2827f>:45: RuntimeWarning: overflow encountered in double_scalars\n",
      "  chi_al+=((model_ar[i]-al_ar[i])**2)/((al_uncer[i])**2)\n",
      "<ipython-input-38-074f9be2827f>:46: RuntimeWarning: overflow encountered in double_scalars\n",
      "  chi_cu+=((model_ar[i]-co_ar[i])**2)/((co_uncer[i])**2)\n",
      "<ipython-input-38-074f9be2827f>:47: RuntimeWarning: overflow encountered in double_scalars\n",
      "  chi_pb+=((model_ar[i]-pb_ar[i])**2)/((pb_uncer[i])**2)\n"
     ]
    }
   ],
   "source": [
    "#CU\n",
    "\n",
    "# Co\n",
    "# coefficient of determination: 0.9994298103749627\n",
    "# intercept: -0.09235162350447212\n",
    "# slope: [-0.52362879]\n",
    "\n",
    "x0=(-0.09235162350447212,0.52362879)\n",
    "print(scipy.optimize.minimize(my_fun,x0,method=\"SLSQP\",args=\"cu\"))\n",
    "\n",
    "print()\n",
    "\n",
    "#print(\"Cu Chi^2 minimization: chi^2=0.3696422948282022, intercept=-0.08923204, mu=0.5221143\")"
   ]
  },
  {
   "cell_type": "code",
   "execution_count": 41,
   "id": "0a1459d6",
   "metadata": {},
   "outputs": [
    {
     "name": "stdout",
     "output_type": "stream",
     "text": [
      "     fun: 131.96621963163096\n",
      "     jac: array([-0.02157593,  0.1115818 ])\n",
      " message: 'Optimization terminated successfully'\n",
      "    nfev: 25\n",
      "     nit: 6\n",
      "    njev: 6\n",
      "  status: 0\n",
      " success: True\n",
      "       x: array([0.63825655, 0.642478  ])\n",
      "\n"
     ]
    },
    {
     "name": "stderr",
     "output_type": "stream",
     "text": [
      "<ipython-input-38-074f9be2827f>:42: RuntimeWarning: overflow encountered in exp\n",
      "  model_ar=np.exp(exps)*N0\n",
      "<ipython-input-38-074f9be2827f>:45: RuntimeWarning: overflow encountered in double_scalars\n",
      "  chi_al+=((model_ar[i]-al_ar[i])**2)/((al_uncer[i])**2)\n",
      "<ipython-input-38-074f9be2827f>:46: RuntimeWarning: overflow encountered in double_scalars\n",
      "  chi_cu+=((model_ar[i]-co_ar[i])**2)/((co_uncer[i])**2)\n",
      "<ipython-input-38-074f9be2827f>:47: RuntimeWarning: overflow encountered in double_scalars\n",
      "  chi_pb+=((model_ar[i]-pb_ar[i])**2)/((pb_uncer[i])**2)\n"
     ]
    }
   ],
   "source": [
    "# Pb\n",
    "# coefficient of determination: 0.9950631284701559\n",
    "# intercept: -0.44618841333140113\n",
    "# slope: [-0.62738051]\n",
    "\n",
    "x0=(0.58685351, 0.76121527)\n",
    "print(scipy.optimize.minimize(my_fun,x0,method=\"SLSQP\",args=\"pb\"))\n",
    "\n",
    "print()\n",
    "\n",
    "#print(\"Pb Chi^2 minimization: chi^2=2.7533458484907465, intercept=-0.08923204, mu=0.5221143\")\n"
   ]
  },
  {
   "cell_type": "code",
   "execution_count": 42,
   "id": "7da6228a",
   "metadata": {},
   "outputs": [],
   "source": [
    "N0=811.5\n",
    "al_ar=[434,525.5,545.5,437.0]\n",
    "co_ar=[360.5,261.5,200.5,71.5]\n",
    "pb_ar=[419,410.5,220.5,39]\n",
    "x_arr=[1.25,2.5,3.75,5.]\n",
    "al_arry=np.array(al_ar)/N0\n",
    "co_arry=np.array(co_ar)/N0\n",
    "pb_arry=np.array(pb_ar)/N0\n",
    "\n",
    "al_uncer=[52.0,60.5,24.5,24.0]\n",
    "co_uncer=[16.5,71.5,53.5,0.5]\n",
    "pb_uncer=[60.5,49.5,9.5,4.0]\n",
    "\n",
    "\n",
    "new_x=np.arange(0,5.5,step=0.1)\n",
    "\n"
   ]
  },
  {
   "cell_type": "code",
   "execution_count": 43,
   "id": "834d9bdc",
   "metadata": {},
   "outputs": [
    {
     "data": {
      "image/png": "[encoded data removed]",
      "text/plain": [
       "<Figure size 432x288 with 1 Axes>"
      ]
     },
     "metadata": {
      "needs_background": "light"
     },
     "output_type": "display_data"
    }
   ],
   "source": [
    "\n",
    "inter=-0.41014496\n",
    "mu=0.02517785\n",
    "exps=-1*np.array(new_x)*mu+inter\n",
    "model_ar=np.exp(exps)*N0\n",
    "\n",
    "plt.errorbar(x_arr,al_ar,yerr=al_uncer,fmt='x',label=\"data al\")\n",
    "plt.plot(new_x,model_ar,label=\"model al\",color=\"blue\")\n",
    "plt.legend()\n",
    "\n",
    "inter=-0.26523763\n",
    "mu= 0.43276052\n",
    "exps=-1*np.array(new_x)*mu+inter\n",
    "model_ar=np.exp(exps)*N0\n",
    "\n",
    "plt.errorbar(x_arr,co_ar,yerr=co_uncer,fmt='x',label=\"data cu\")\n",
    "plt.plot(new_x,model_ar,label=\"model cu\",color=\"gold\")\n",
    "plt.legend()\n",
    "\n",
    "inter=0.63825655\n",
    "mu=0.642478\n",
    "exps=-1*np.array(new_x)*mu+inter\n",
    "model_ar=np.exp(exps)*N0\n",
    "\n",
    "plt.errorbar(x_arr,pb_ar,yerr=pb_uncer,fmt='x',label=\"data pb\")\n",
    "plt.plot(new_x,model_ar,label=\"model pb\",color=\"green\")\n",
    "plt.legend()\n",
    "\n",
    "plt.title(\"Co 1.3 Mev Chi_squared minimization fitting results\")\n",
    "plt.ylabel(\"Number of Counts\")\n",
    "plt.xlabel(\"material thinkness (cm)\")\n",
    "plt.show()\n"
   ]
  },
  {
   "cell_type": "code",
   "execution_count": 44,
   "id": "6d5ad08d",
   "metadata": {},
   "outputs": [
    {
     "data": {
      "image/png": "[encoded data removed]",
      "text/plain": [
       "<Figure size 432x288 with 1 Axes>"
      ]
     },
     "metadata": {
      "needs_background": "light"
     },
     "output_type": "display_data"
    }
   ],
   "source": [
    "al_arryy=np.log(np.array(al_ar)/N0)\n",
    "co_arryy=np.log(np.array(co_ar)/N0)\n",
    "pb_arryy=np.log(np.array(pb_ar)/N0)\n",
    "\n",
    "N0_uncer=55.5\n",
    "\n",
    "\n",
    "al_uncerr=[]\n",
    "co_uncerr=[]\n",
    "pb_uncerr=[]\n",
    "\n",
    "for i in range(0,4):\n",
    "    \n",
    "    em_perc=N0_uncer/N0\n",
    "    \n",
    "    al_perc=al_uncer[i]/al_ar[i]\n",
    "    \n",
    "    #https://openbooks.library.umass.edu/p132-lab-manual/chapter/uncertainty-for-natural-logarithms/\n",
    "    \n",
    "    #(al_perc+em_perc)*(al_ar[i]/N0)/(al_ar[i]/N0)\n",
    "    \n",
    "    \n",
    "    al_uncerr.append((al_perc+em_perc))\n",
    "    \n",
    "    co_perc=co_uncer[i]/co_ar[i]\n",
    "    co_uncerr.append((co_perc+em_perc))\n",
    "    \n",
    "    pb_perc=pb_uncer[i]/pb_ar[i]\n",
    "    pb_uncerr.append((pb_perc+em_perc))\n",
    "    \n",
    "\n",
    "inter=-0.41014496\n",
    "mu=0.02517785\n",
    "model_ar=-1*np.array(new_x)*mu+inter\n",
    "\n",
    "\n",
    "plt.errorbar(x_arr,al_arryy,yerr=al_uncerr,fmt='x',label=\"data al\")\n",
    "#plt.scatter(x_arr,al_arryy)\n",
    "plt.plot(new_x,model_ar,label=\"model al\",color=\"blue\")\n",
    "plt.legend()\n",
    "\n",
    "inter=-0.26523763\n",
    "mu= 0.43276052\n",
    "model_ar=-1*np.array(new_x)*mu+inter\n",
    "\n",
    "plt.errorbar(x_arr,co_arryy,yerr=co_uncerr,fmt='x',label=\"data cu\")\n",
    "#plt.scatter(x_arr,co_arryy)\n",
    "plt.plot(new_x,model_ar,label=\"model cu\",color=\"gold\")\n",
    "plt.legend()\n",
    "\n",
    "inter=0.63825655\n",
    "mu=0.642478\n",
    "model_ar=-1*np.array(new_x)*mu+inter\n",
    "\n",
    "plt.errorbar(x_arr,pb_arryy,yerr=pb_uncerr,fmt='x',label=\"data pb\")\n",
    "#plt.scatter(x_arr,pb_arryy)\n",
    "plt.plot(new_x,model_ar,label=\"model pb\",color=\"green\")\n",
    "plt.legend()\n",
    "\n",
    "plt.title(\"Co 1.3 Mev Chi_squared minimization fitting results (linear)\")\n",
    "plt.ylabel(\"ln(N/N0)\")\n",
    "plt.xlabel(\"material thinkness (cm)\")\n",
    "plt.show()\n",
    "\n"
   ]
  },
  {
   "cell_type": "code",
   "execution_count": null,
   "id": "c1c151cf",
   "metadata": {},
   "outputs": [],
   "source": []
  },
  {
   "cell_type": "code",
   "execution_count": null,
   "id": "a44718cf",
   "metadata": {},
   "outputs": [],
   "source": []
  },
  {
   "cell_type": "code",
   "execution_count": null,
   "id": "ee76d7b5",
   "metadata": {},
   "outputs": [],
   "source": []
  }
 ],
 "metadata": {
  "kernelspec": {
   "display_name": "Python 3",
   "language": "python",
   "name": "python3"
  },
  "language_info": {
   "codemirror_mode": {
    "name": "ipython",
    "version": 3
   },
   "file_extension": ".py",
   "mimetype": "text/x-python",
   "name": "python",
   "nbconvert_exporter": "python",
   "pygments_lexer": "ipython3",
   "version": "3.8.8"
  }
 },
 "nbformat": 4,
 "nbformat_minor": 5
}
